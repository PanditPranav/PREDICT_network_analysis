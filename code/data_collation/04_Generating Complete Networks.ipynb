{
 "cells": [
  {
   "cell_type": "code",
   "execution_count": 3,
   "metadata": {},
   "outputs": [],
   "source": [
    "\"\"\"Running basic code:\n",
    "Importing packages, setting working directory, \n",
    "printing out date\"\"\"\n",
    "\n",
    "import os as os\n",
    "os.chdir('C:/Users/Falco/Desktop/directory/Missing_links_in_viral_host_communities/')\n",
    "import datetime as dt\n",
    "str(dt.datetime.now())\n",
    "from sklearn.metrics import confusion_matrix\n",
    "import seaborn as sns\n",
    "#from pandas_ml import ConfusionMatrix\n",
    "data_path = 'C:/Users/Falco/Desktop/directory/Missing_links_in_viral_host_communities/data/'\n",
    "output_path = 'C:/Users/Falco/Desktop/directory/Missing_links_in_viral_host_communities/outputs/'\n",
    "from HPnex import functions as f\n",
    "from HPnex import classification as classify\n",
    "from HPnex import fitting_functions as fitt\n",
    "from HPnex import multiclass_validation as multi_val\n",
    "\n",
    "import numpy as np\n",
    "import networkx as nx\n",
    "#np.random.seed(42)\n",
    "from sklearn.ensemble import RandomForestClassifier\n",
    "#from pandas_ml import ConfusionMatrix\n",
    "from matplotlib import pyplot as plt\n",
    "import seaborn as sns\n",
    "import scipy.stats as stats\n",
    "from sklearn import model_selection\n",
    "height = 6\n",
    "font = 12\n",
    "\n",
    "import sklearn\n",
    "from sklearn.feature_extraction.text import CountVectorizer, TfidfTransformer\n",
    "from sklearn.ensemble import RandomForestClassifier, GradientBoostingClassifier, AdaBoostClassifier\n",
    "from sklearn.naive_bayes import MultinomialNB\n",
    "from sklearn.svm import SVC, LinearSVC\n",
    "from sklearn.metrics import classification_report, f1_score, accuracy_score, confusion_matrix\n",
    "from sklearn.pipeline import Pipeline\n",
    "from sklearn.model_selection import GridSearchCV\n",
    "#from sklearn.cross_validation import\n",
    "from sklearn.model_selection import StratifiedKFold ,cross_val_score, train_test_split, cross_val_predict\n",
    "from sklearn.tree import DecisionTreeClassifier \n",
    "from sklearn.model_selection import learning_curve\n",
    "#from pandas_ml import ConfusionMatrix\n",
    "from textblob import TextBlob\n",
    "from sklearn.linear_model import SGDClassifier\n",
    "from sklearn.ensemble import ExtraTreesClassifier, RandomForestClassifier, AdaBoostClassifier, GradientBoostingClassifier\n",
    "from sklearn.model_selection import GridSearchCV\n",
    "from sklearn.metrics import accuracy_score\n",
    "import itertools as itertools\n",
    "from xgboost import XGBClassifier\n",
    "\n",
    "\n",
    "\n",
    "import pandas as pd\n",
    "data = pd.read_pickle(data_path + '\\species_hp_updated.pickle')\n",
    "data['Virus'] = data.virus_name\n",
    "data = data[data.ScientificName != 'Pelophylax ridibundus'];\n",
    "data = data[data.ScientificName != 'Crocodylus moreletii']\n",
    "data = data[data.ScientificName != 'unknown unknown']\n",
    "data = data[data.ScientificName != 'Anaxyrus fowleri']\n",
    "data = data[data.ScientificName != 'spp.']\n",
    "data = data[data.ScientificName != '']\n",
    "data = data[data.ScientificName != 'Sturnidae']\n",
    "data = data[data.ScientificName != 'Apodemus']\n",
    "data.replace('Gis Glis', 'Glis glis', inplace= True)\n",
    "data.replace('Murina  aurata', 'Murina aurata', inplace= True)\n",
    "data.replace('Liomys adspersus', 'Heteromys adspersus', inplace= True)\n",
    "data.replace('Oreothlypis ruficapilla', 'Vermivora ruficapilla', inplace= True)\n",
    "data.replace('Streptopelia chinensis', 'Spilopelia chinensis', inplace= True)\n",
    "data.replace('Haemorhous mexicanus', 'Carpodacus mexicanus', inplace= True)\n",
    "data.replace('Pseudalopex vetulus', 'Lycalopex vetulus', inplace= True)\n",
    "data.replace('Sigmondon toltecus', 'Sigmodon toltecus', inplace= True)\n",
    "data.replace('Milvago chimango', 'Milvago chimachima', inplace= True)\n",
    "data.replace('Spinus tristis', 'Carduelis tristis', inplace= True)\n",
    "data.replace('Alopex lagopus', 'Vulpes lagopus', inplace= True)\n",
    "data.replace('Clethrionomys rufocanus', 'Myodes rufocanus', inplace= True)\n",
    "data.replace('Ichthyaetus leucophthalmus', 'Larus leucophthalmus', inplace= True)\n",
    "data.replace('Pan troglodyte', 'Pan troglodytes', inplace= True)\n",
    "data.replace('Poecile atricapillus', 'Parus atricapillus', inplace= True)\n",
    "data.replace('Poecile carolinensis', 'Parus carolinensis', inplace= True)\n",
    "data.replace('Erythacus rubecula', 'Erithacus rubecula', inplace= True)\n",
    "data.replace('Micoureus demerarae', 'Marmosa demerarae', inplace= True)\n",
    "#data.replace('', '', inplace= True)\n",
    "\n",
    "\n",
    "data['virus_name_old'] = data.virus_name\n",
    "data['virus_name'] = data.species\n",
    "data['VF'] = data.iloc[:,[19]]\n",
    "data.drop('viral_family', axis=1, inplace= True)\n",
    "data['viral_family'] = data['VF']\n",
    "data.columns.get_loc('viral_family')\n",
    "data.viral_family.fillna('Not_Assinged', inplace= True)\n",
    "\n",
    "virus_df = data.groupby(\n",
    "    ['virus_name', 'viral_family',\n",
    "     'PubMed_Search_ln']).size().reset_index()\n",
    "virus_df['group'] = np.random.randint(1, 11, virus_df.shape[0])\n",
    "virus_df['group'].value_counts()\n",
    "virus_df.head()\n",
    "\n",
    "data_species_list = set(data.ScientificName.unique().tolist())\n",
    "IUCN = pd.read_csv(data_path+ '\\IUCN Mammals, Birds, Reptiles, and Amphibians.csv',)\n",
    "IUCN[\"ScientificName\"] = IUCN[\"Genus\"].map(str) +' '+IUCN[\"Species\"]\n",
    "IUCN_list = set(IUCN.ScientificName.unique().tolist())\n",
    "missing_names = list(data_species_list.difference(IUCN_list))\n",
    "missing_names\n",
    "df = pd.merge(\n",
    "    data, virus_df[['virus_name', 'group']], on='virus_name', how='left')\n",
    "\n",
    "IUCN.loc[IUCN.ScientificName== 'Homo sapiens', 'Order'] = 'Humans'\n",
    "df = pd.merge(df, IUCN[['ScientificName', 'Order']], on= 'ScientificName', how='left')\n",
    "df['PubMed_Search'].fillna(1, inplace = True)\n",
    "df['PubMed_Search'] = df['PubMed_Search']+1"
   ]
  },
  {
   "cell_type": "code",
   "execution_count": 4,
   "metadata": {},
   "outputs": [
    {
     "data": {
      "text/html": [
       "<div>\n",
       "<style scoped>\n",
       "    .dataframe tbody tr th:only-of-type {\n",
       "        vertical-align: middle;\n",
       "    }\n",
       "\n",
       "    .dataframe tbody tr th {\n",
       "        vertical-align: top;\n",
       "    }\n",
       "\n",
       "    .dataframe thead th {\n",
       "        text-align: right;\n",
       "    }\n",
       "</style>\n",
       "<table border=\"1\" class=\"dataframe\">\n",
       "  <thead>\n",
       "    <tr style=\"text-align: right;\">\n",
       "      <th></th>\n",
       "      <th>DetectionQuality</th>\n",
       "      <th>ScientificName</th>\n",
       "      <th>Source</th>\n",
       "      <th>Virus</th>\n",
       "      <th>Virus_Confirmed</th>\n",
       "      <th>Wild</th>\n",
       "      <th>accession</th>\n",
       "      <th>common_names</th>\n",
       "      <th>domestic</th>\n",
       "      <th>host_family</th>\n",
       "      <th>...</th>\n",
       "      <th>number_of_hosts</th>\n",
       "      <th>order</th>\n",
       "      <th>species</th>\n",
       "      <th>tax_id</th>\n",
       "      <th>tax_id_n</th>\n",
       "      <th>virus_name_old</th>\n",
       "      <th>VF</th>\n",
       "      <th>viral_family</th>\n",
       "      <th>group</th>\n",
       "      <th>Order</th>\n",
       "    </tr>\n",
       "  </thead>\n",
       "  <tbody>\n",
       "    <tr>\n",
       "      <th>0</th>\n",
       "      <td>NaN</td>\n",
       "      <td>Accipiter cooperii</td>\n",
       "      <td>EpiCenter</td>\n",
       "      <td>West Nile virus</td>\n",
       "      <td>1</td>\n",
       "      <td>NaN</td>\n",
       "      <td>0</td>\n",
       "      <td>nan</td>\n",
       "      <td>nan</td>\n",
       "      <td>Accipitridae</td>\n",
       "      <td>...</td>\n",
       "      <td>1126.0</td>\n",
       "      <td>NaN</td>\n",
       "      <td>West Nile virus</td>\n",
       "      <td>11082.0</td>\n",
       "      <td>11082.0</td>\n",
       "      <td>West Nile virus</td>\n",
       "      <td>Flaviviridae</td>\n",
       "      <td>Flaviviridae</td>\n",
       "      <td>9.0</td>\n",
       "      <td>ACCIPITRIFORMES</td>\n",
       "    </tr>\n",
       "    <tr>\n",
       "      <th>1</th>\n",
       "      <td>NaN</td>\n",
       "      <td>Accipiter cooperii</td>\n",
       "      <td>EpiCenter</td>\n",
       "      <td>West Nile virus</td>\n",
       "      <td>1</td>\n",
       "      <td>NaN</td>\n",
       "      <td>0</td>\n",
       "      <td>nan</td>\n",
       "      <td>nan</td>\n",
       "      <td>Accipitridae</td>\n",
       "      <td>...</td>\n",
       "      <td>1126.0</td>\n",
       "      <td>NaN</td>\n",
       "      <td>West Nile virus</td>\n",
       "      <td>11082.0</td>\n",
       "      <td>11082.0</td>\n",
       "      <td>West Nile virus</td>\n",
       "      <td>Flaviviridae</td>\n",
       "      <td>Flaviviridae</td>\n",
       "      <td>7.0</td>\n",
       "      <td>ACCIPITRIFORMES</td>\n",
       "    </tr>\n",
       "    <tr>\n",
       "      <th>2</th>\n",
       "      <td>NaN</td>\n",
       "      <td>Accipiter cooperii</td>\n",
       "      <td>EpiCenter</td>\n",
       "      <td>West Nile virus</td>\n",
       "      <td>1</td>\n",
       "      <td>NaN</td>\n",
       "      <td>AF206520</td>\n",
       "      <td>nan</td>\n",
       "      <td>nan</td>\n",
       "      <td>Accipitridae</td>\n",
       "      <td>...</td>\n",
       "      <td>1126.0</td>\n",
       "      <td>NaN</td>\n",
       "      <td>West Nile virus</td>\n",
       "      <td>11082.0</td>\n",
       "      <td>11082.0</td>\n",
       "      <td>West Nile virus</td>\n",
       "      <td>Flaviviridae</td>\n",
       "      <td>Flaviviridae</td>\n",
       "      <td>9.0</td>\n",
       "      <td>ACCIPITRIFORMES</td>\n",
       "    </tr>\n",
       "    <tr>\n",
       "      <th>3</th>\n",
       "      <td>NaN</td>\n",
       "      <td>Accipiter cooperii</td>\n",
       "      <td>EpiCenter</td>\n",
       "      <td>West Nile virus</td>\n",
       "      <td>1</td>\n",
       "      <td>NaN</td>\n",
       "      <td>AF206520</td>\n",
       "      <td>nan</td>\n",
       "      <td>nan</td>\n",
       "      <td>Accipitridae</td>\n",
       "      <td>...</td>\n",
       "      <td>1126.0</td>\n",
       "      <td>NaN</td>\n",
       "      <td>West Nile virus</td>\n",
       "      <td>11082.0</td>\n",
       "      <td>11082.0</td>\n",
       "      <td>West Nile virus</td>\n",
       "      <td>Flaviviridae</td>\n",
       "      <td>Flaviviridae</td>\n",
       "      <td>7.0</td>\n",
       "      <td>ACCIPITRIFORMES</td>\n",
       "    </tr>\n",
       "    <tr>\n",
       "      <th>4</th>\n",
       "      <td>NaN</td>\n",
       "      <td>Accipiter cooperii</td>\n",
       "      <td>EpiCenter</td>\n",
       "      <td>West Nile virus</td>\n",
       "      <td>1</td>\n",
       "      <td>NaN</td>\n",
       "      <td>HM756660</td>\n",
       "      <td>nan</td>\n",
       "      <td>nan</td>\n",
       "      <td>Accipitridae</td>\n",
       "      <td>...</td>\n",
       "      <td>1126.0</td>\n",
       "      <td>NaN</td>\n",
       "      <td>West Nile virus</td>\n",
       "      <td>11082.0</td>\n",
       "      <td>11082.0</td>\n",
       "      <td>West Nile virus</td>\n",
       "      <td>Flaviviridae</td>\n",
       "      <td>Flaviviridae</td>\n",
       "      <td>9.0</td>\n",
       "      <td>ACCIPITRIFORMES</td>\n",
       "    </tr>\n",
       "  </tbody>\n",
       "</table>\n",
       "<p>5 rows × 54 columns</p>\n",
       "</div>"
      ],
      "text/plain": [
       "   DetectionQuality      ScientificName     Source            Virus  \\\n",
       "0               NaN  Accipiter cooperii  EpiCenter  West Nile virus   \n",
       "1               NaN  Accipiter cooperii  EpiCenter  West Nile virus   \n",
       "2               NaN  Accipiter cooperii  EpiCenter  West Nile virus   \n",
       "3               NaN  Accipiter cooperii  EpiCenter  West Nile virus   \n",
       "4               NaN  Accipiter cooperii  EpiCenter  West Nile virus   \n",
       "\n",
       "   Virus_Confirmed Wild accession common_names domestic   host_family  ...  \\\n",
       "0                1  NaN         0          nan      nan  Accipitridae  ...   \n",
       "1                1  NaN         0          nan      nan  Accipitridae  ...   \n",
       "2                1  NaN  AF206520          nan      nan  Accipitridae  ...   \n",
       "3                1  NaN  AF206520          nan      nan  Accipitridae  ...   \n",
       "4                1  NaN  HM756660          nan      nan  Accipitridae  ...   \n",
       "\n",
       "  number_of_hosts order          species   tax_id tax_id_n   virus_name_old  \\\n",
       "0          1126.0   NaN  West Nile virus  11082.0  11082.0  West Nile virus   \n",
       "1          1126.0   NaN  West Nile virus  11082.0  11082.0  West Nile virus   \n",
       "2          1126.0   NaN  West Nile virus  11082.0  11082.0  West Nile virus   \n",
       "3          1126.0   NaN  West Nile virus  11082.0  11082.0  West Nile virus   \n",
       "4          1126.0   NaN  West Nile virus  11082.0  11082.0  West Nile virus   \n",
       "\n",
       "             VF  viral_family group            Order  \n",
       "0  Flaviviridae  Flaviviridae   9.0  ACCIPITRIFORMES  \n",
       "1  Flaviviridae  Flaviviridae   7.0  ACCIPITRIFORMES  \n",
       "2  Flaviviridae  Flaviviridae   9.0  ACCIPITRIFORMES  \n",
       "3  Flaviviridae  Flaviviridae   7.0  ACCIPITRIFORMES  \n",
       "4  Flaviviridae  Flaviviridae   9.0  ACCIPITRIFORMES  \n",
       "\n",
       "[5 rows x 54 columns]"
      ]
     },
     "execution_count": 4,
     "metadata": {},
     "output_type": "execute_result"
    }
   ],
   "source": [
    "df.head()"
   ]
  },
  {
   "cell_type": "markdown",
   "metadata": {},
   "source": [
    "# Complete Network"
   ]
  },
  {
   "cell_type": "code",
   "execution_count": 5,
   "metadata": {},
   "outputs": [
    {
     "name": "stdout",
     "output_type": "stream",
     "text": [
      "this function is essenstial to generate species level sharing network but to add order data to the edges attributes\n"
     ]
    },
    {
     "name": "stderr",
     "output_type": "stream",
     "text": [
      "C:\\Users\\Falco\\Desktop\\directory\\Missing_links_in_viral_host_communities\\HPnex\\functions.py:930: FutureWarning: The default value of regex will change from True to False in a future version.\n",
      "  data['ScientificName'] = data['ScientificName'].str.replace('[^\\x00-\\x7F]','')\n"
     ]
    },
    {
     "name": "stdout",
     "output_type": "stream",
     "text": [
      "we have 136503 virus pairs in our model\n",
      "Wall time: 1min 45s\n"
     ]
    }
   ],
   "source": [
    "%%time\n",
    "Gc_df, Gc = f.construct_unipartite_virus_virus_network_order(\n",
    "    dataframe=df,\n",
    "    network_name='all_network',\n",
    "    IUCN = IUCN,\n",
    "    layout_func='fruchterman_reingold',\n",
    "    plot=False,\n",
    "    filter_file=False,\n",
    "    taxonomic_filter=None,\n",
    "    return_df=True)"
   ]
  },
  {
   "cell_type": "code",
   "execution_count": 6,
   "metadata": {},
   "outputs": [
    {
     "data": {
      "text/plain": [
       "{'weight': 1, 'hosts': 'Homo sapiens', 'orders': 'Humans'}"
      ]
     },
     "execution_count": 6,
     "metadata": {},
     "output_type": "execute_result"
    }
   ],
   "source": [
    "Gc.get_edge_data(u='West Nile virus', v='Zika virus')"
   ]
  },
  {
   "cell_type": "code",
   "execution_count": 7,
   "metadata": {},
   "outputs": [
    {
     "data": {
      "text/plain": [
       "35838"
      ]
     },
     "execution_count": 7,
     "metadata": {},
     "output_type": "execute_result"
    }
   ],
   "source": [
    "Gc.number_of_edges()"
   ]
  },
  {
   "cell_type": "code",
   "execution_count": 8,
   "metadata": {},
   "outputs": [],
   "source": [
    "nx.write_graphml(Gc, \"C:/Users/Falco/Desktop/directory/Missing_links_in_viral_host_communities/outputs/CompleteNetwork_Order_Humans.graphml\")"
   ]
  },
  {
   "cell_type": "markdown",
   "metadata": {},
   "source": [
    "## BPnx"
   ]
  },
  {
   "cell_type": "code",
   "execution_count": 9,
   "metadata": {},
   "outputs": [
    {
     "name": "stdout",
     "output_type": "stream",
     "text": [
      "Wall time: 10.2 s\n"
     ]
    }
   ],
   "source": [
    "%%time\n",
    "BPnx = f.construct_bipartite_host_virus_network(\n",
    "    dataframe=df,\n",
    "    network_name='Go',\n",
    "    plot=False,\n",
    "    filter_file=False,\n",
    "    taxonomic_filter=None)\n",
    "\n",
    "nx.write_graphml(BPnx, \"C:/Users/Falco/Desktop/directory/Missing_links_in_viral_host_communities/outputs/BPnx_Order_humans.graphml\")"
   ]
  },
  {
   "cell_type": "code",
   "execution_count": 11,
   "metadata": {},
   "outputs": [],
   "source": [
    "#pd.DataFrame(BPnx.nodes(data=True))"
   ]
  },
  {
   "cell_type": "code",
   "execution_count": null,
   "metadata": {},
   "outputs": [],
   "source": []
  }
 ],
 "metadata": {
  "kernelspec": {
   "display_name": "Python 3",
   "language": "python",
   "name": "python3"
  },
  "language_info": {
   "codemirror_mode": {
    "name": "ipython",
    "version": 3
   },
   "file_extension": ".py",
   "mimetype": "text/x-python",
   "name": "python",
   "nbconvert_exporter": "python",
   "pygments_lexer": "ipython3",
   "version": "3.8.8"
  },
  "toc": {
   "base_numbering": 1,
   "nav_menu": {},
   "number_sections": true,
   "sideBar": true,
   "skip_h1_title": false,
   "title_cell": "Table of Contents",
   "title_sidebar": "Contents",
   "toc_cell": false,
   "toc_position": {},
   "toc_section_display": true,
   "toc_window_display": false
  },
  "varInspector": {
   "cols": {
    "lenName": 16,
    "lenType": 16,
    "lenVar": 40
   },
   "kernels_config": {
    "python": {
     "delete_cmd_postfix": "",
     "delete_cmd_prefix": "del ",
     "library": "var_list.py",
     "varRefreshCmd": "print(var_dic_list())"
    },
    "r": {
     "delete_cmd_postfix": ") ",
     "delete_cmd_prefix": "rm(",
     "library": "var_list.r",
     "varRefreshCmd": "cat(var_dic_list()) "
    }
   },
   "types_to_exclude": [
    "module",
    "function",
    "builtin_function_or_method",
    "instance",
    "_Feature"
   ],
   "window_display": false
  }
 },
 "nbformat": 4,
 "nbformat_minor": 2
}
